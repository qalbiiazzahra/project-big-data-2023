{
  "nbformat": 4,
  "nbformat_minor": 0,
  "metadata": {
    "colab": {
      "provenance": []
    },
    "kernelspec": {
      "name": "python3",
      "display_name": "Python 3"
    },
    "language_info": {
      "name": "python"
    }
  },
  "cells": [
    {
      "cell_type": "code",
      "source": [
        "!pip install pyspark"
      ],
      "metadata": {
        "colab": {
          "base_uri": "https://localhost:8080/"
        },
        "id": "RttGdRjRMDxu",
        "outputId": "2a737d4e-88d8-4fb7-a648-67d9ee2b8d70"
      },
      "execution_count": null,
      "outputs": [
        {
          "output_type": "stream",
          "name": "stdout",
          "text": [
            "Looking in indexes: https://pypi.org/simple, https://us-python.pkg.dev/colab-wheels/public/simple/\n",
            "Collecting pyspark\n",
            "  Downloading pyspark-3.4.1.tar.gz (310.8 MB)\n",
            "\u001b[2K     \u001b[90m━━━━━━━━━━━━━━━━━━━━━━━━━━━━━━━━━━━━━━━\u001b[0m \u001b[32m310.8/310.8 MB\u001b[0m \u001b[31m4.7 MB/s\u001b[0m eta \u001b[36m0:00:00\u001b[0m\n",
            "\u001b[?25h  Preparing metadata (setup.py) ... \u001b[?25l\u001b[?25hdone\n",
            "Requirement already satisfied: py4j==0.10.9.7 in /usr/local/lib/python3.10/dist-packages (from pyspark) (0.10.9.7)\n",
            "Building wheels for collected packages: pyspark\n",
            "  Building wheel for pyspark (setup.py) ... \u001b[?25l\u001b[?25hdone\n",
            "  Created wheel for pyspark: filename=pyspark-3.4.1-py2.py3-none-any.whl size=311285398 sha256=ccef3a5df351cf2f69c6cfbb48f930fdc9f2cff62120f7661b0cd6390df0cbb9\n",
            "  Stored in directory: /root/.cache/pip/wheels/0d/77/a3/ff2f74cc9ab41f8f594dabf0579c2a7c6de920d584206e0834\n",
            "Successfully built pyspark\n",
            "Installing collected packages: pyspark\n",
            "Successfully installed pyspark-3.4.1\n"
          ]
        }
      ]
    },
    {
      "cell_type": "code",
      "execution_count": null,
      "metadata": {
        "id": "pIV5IENrL1c8"
      },
      "outputs": [],
      "source": [
        "from pyspark.sql import SparkSession\n",
        "spark = SparkSession.builder.getOrCreate()\n",
        "dataset = spark.read.csv(\"/content/global-hunger-index.csv\", header=True, inferSchema=True)\n",
        "dataset2 = spark.read.csv(\"/content/share-of-children-underweight.csv\", header=True, inferSchema=True)\n",
        "dataset3 = spark.read.csv(\"/content/share-of-children-with-a-weight-too-low-for-their-height-wasting.csv\", header=True, inferSchema=True)\n",
        "dataset4 = spark.read.csv(\"/content/share-of-children-younger-than-5-who-suffer-from-stunting.csv\", header=True, inferSchema=True)"
      ]
    },
    {
      "cell_type": "code",
      "source": [
        "selected_column = [\"Entity\", \"Code\", \"Year\", \"Global Hunger Index (2021)\", \"411773-annotations\"]\n",
        "dataset = dataset.select(selected_column)"
      ],
      "metadata": {
        "id": "qlgCYIXcOdnX"
      },
      "execution_count": null,
      "outputs": []
    },
    {
      "cell_type": "code",
      "source": [
        "selected_column = [\"Entity\", \"Code\", \"Year\", \"Prevalence of underweight, weight for age (% of children under 5)\"]\n",
        "dataset2 = dataset2.select(selected_column)"
      ],
      "metadata": {
        "id": "SuPEFslWRJ5O"
      },
      "execution_count": null,
      "outputs": []
    },
    {
      "cell_type": "code",
      "source": [
        "selected_column = [\"Entity\", \"Code\", \"Year\", \"Prevalence of wasting, weight for height (% of children under 5)\"]\n",
        "dataset3 = dataset3.select(selected_column)"
      ],
      "metadata": {
        "id": "av-Q1dbeRKUw"
      },
      "execution_count": null,
      "outputs": []
    },
    {
      "cell_type": "code",
      "source": [
        "selected_column = [\"Entity\", \"Code\", \"Year\", \"Prevalence of stunting, height for age (% of children under 5)\"]\n",
        "dataset4 = dataset4.select(selected_column)"
      ],
      "metadata": {
        "id": "vwBTAx4tRKyi"
      },
      "execution_count": null,
      "outputs": []
    },
    {
      "cell_type": "code",
      "source": [
        "dataset.write.csv(\"/content/globalHungerIndex\", header=True)\n",
        "dataset2.write.csv(\"/content/childrenOfUnderweight\", header=True)\n",
        "dataset3.write.csv(\"/content/weightTooLowForTheirHeightWasting\", header=True)\n",
        "dataset4.write.csv(\"/content/youngerThanFiveWhoSufferFromStunting\", header=True)"
      ],
      "metadata": {
        "id": "Kc2GzyNASC4a"
      },
      "execution_count": null,
      "outputs": []
    },
    {
      "cell_type": "code",
      "source": [],
      "metadata": {
        "id": "MfbnT7jDbGQe"
      },
      "execution_count": null,
      "outputs": []
    }
  ]
}